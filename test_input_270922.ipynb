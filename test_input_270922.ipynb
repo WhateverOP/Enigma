{
 "cells": [
  {
   "cell_type": "code",
   "execution_count": 2,
   "metadata": {},
   "outputs": [],
   "source": [
    "import pandas as pd\n",
    "import numpy as np\n",
    "import seaborn as sns\n",
    "import matplotlib.pyplot as plt\n",
    "from matplotlib.colors import ListedColormap\n",
    "import math\n",
    "import random\n",
    "from array import array\n",
    "import time\n",
    "import matplotlib\n",
    "import sys\n",
    "\n",
    "plt.rcParams.update({\n",
    "'font.size': 25,\n",
    "'figure.figsize': (11, 10),\n",
    "'figure.autolayout': True,\n",
    "'axes.grid': True,\n",
    "'grid.linestyle': '-',\n",
    "'grid.alpha': 0.2,\n",
    "'lines.markersize': 5.0,\n",
    "'xtick.minor.visible': True,\n",
    "'xtick.direction': 'in',\n",
    "'xtick.major.size': 20.0,\n",
    "'xtick.minor.size': 10.0,\n",
    "'xtick.top': True,\n",
    "'ytick.minor.visible': True,\n",
    "'ytick.direction': 'in',\n",
    "'ytick.major.size': 20.0,\n",
    "'ytick.minor.size': 10.0,\n",
    "'ytick.right': True,\n",
    "'errorbar.capsize': 0.0\n",
    "})\n",
    "\n",
    "x_font_size = 25\n",
    "y_font_size = 35\n",
    "l_font_size = 25"
   ]
  },
  {
   "cell_type": "code",
   "execution_count": 3,
   "metadata": {},
   "outputs": [],
   "source": [
    "Rotors = '''\n",
    "INPUT \tA \tB \tC \tD \tE \tF \tG \tH \tI \tJ \tK \tL\tM \tN \tO \tP \tQ \tR \tS \tT \tU \tV \tW\tX \tY \tZ\n",
    "Rotor I \tE \tK \tM \tF \tL \tG \tD \tQ \tV \tZ \tN \tT\tO \tW \tY \tH \tX \tU \tS \tP \tA \tI \tB\tR \tC \tJ\n",
    "Rotor II \tA \tJ \tD \tK \tS \tI \tR \tU \tX \tB \tL \tH\tW \tT \tM \tC \tQ \tG \tZ \tN \tP \tY \tF\tV \tO \tE\n",
    "Rotor III \tB \tD \tF \tH \tJ \tL \tC \tP \tR \tT \tX \tV\tZ \tN \tY \tE \tI \tW \tG \tA \tK \tM \tU\tS \tQ \tO\n",
    "Rotor IV \tE \tS \tO \tV \tP \tZ \tJ \tA \tY \tQ \tU \tI\tR \tH \tX \tL \tN \tF \tT \tG \tK \tD \tC\tM \tW \tB\n",
    "Rotor V \tV \tZ \tB \tR \tG \tI \tT \tY \tU \tP \tS \tD\tN \tH \tL \tX \tA \tW \tM \tJ \tQ \tO \tF\tE \tC \tK\n",
    "Rotor VI \tJ \tP \tG \tV \tO \tU \tM \tF \tY \tQ \tB \tE\tN \tH \tZ \tR \tD \tK \tA \tS \tX \tL \tI\tC \tT \tW\n",
    "Rotor VII \tN \tZ \tJ \tH \tG \tR \tC \tX \tM \tY \tS \tW\tB \tO \tU \tF \tA \tI \tV \tL \tP \tE \tK\tQ \tD \tT\n",
    "Rotor VIII \tF \tK \tQ \tH \tT \tL \tX \tO \tC \tB \tJ \tS\tP \tD \tZ \tR \tA \tM \tE \tW \tN \tI \tU\tY \tG \tV\n",
    "Beta rotor \tL \tE \tY \tJ \tV \tC \tN \tI \tX \tW \tP \tB\tQ \tM \tD \tR \tT \tA \tK \tZ \tG \tF \tU\tH \tO \tS\n",
    "Gamma rotor \tF \tS \tO \tK \tA \tN \tU \tE \tR \tH \tM \tB\tT \tI \tY \tC \tW \tL \tQ \tP \tZ \tX \tV\tG \tJ \tD\n",
    "'''\n"
   ]
  },
  {
   "cell_type": "code",
   "execution_count": 14,
   "metadata": {},
   "outputs": [
    {
     "data": {
      "text/plain": [
       "['',\n",
       " 'INPUT \\tA \\tB \\tC \\tD \\tE \\tF \\tG \\tH \\tI \\tJ \\tK \\tL\\tM \\tN \\tO \\tP \\tQ \\tR \\tS \\tT \\tU \\tV \\tW\\tX \\tY \\tZ',\n",
       " 'Rotor I \\tE \\tK \\tM \\tF \\tL \\tG \\tD \\tQ \\tV \\tZ \\tN \\tT\\tO \\tW \\tY \\tH \\tX \\tU \\tS \\tP \\tA \\tI \\tB\\tR \\tC \\tJ',\n",
       " 'Rotor II \\tA \\tJ \\tD \\tK \\tS \\tI \\tR \\tU \\tX \\tB \\tL \\tH\\tW \\tT \\tM \\tC \\tQ \\tG \\tZ \\tN \\tP \\tY \\tF\\tV \\tO \\tE',\n",
       " 'Rotor III \\tB \\tD \\tF \\tH \\tJ \\tL \\tC \\tP \\tR \\tT \\tX \\tV\\tZ \\tN \\tY \\tE \\tI \\tW \\tG \\tA \\tK \\tM \\tU\\tS \\tQ \\tO',\n",
       " 'Rotor IV \\tE \\tS \\tO \\tV \\tP \\tZ \\tJ \\tA \\tY \\tQ \\tU \\tI\\tR \\tH \\tX \\tL \\tN \\tF \\tT \\tG \\tK \\tD \\tC\\tM \\tW \\tB',\n",
       " 'Rotor V \\tV \\tZ \\tB \\tR \\tG \\tI \\tT \\tY \\tU \\tP \\tS \\tD\\tN \\tH \\tL \\tX \\tA \\tW \\tM \\tJ \\tQ \\tO \\tF\\tE \\tC \\tK',\n",
       " 'Rotor VI \\tJ \\tP \\tG \\tV \\tO \\tU \\tM \\tF \\tY \\tQ \\tB \\tE\\tN \\tH \\tZ \\tR \\tD \\tK \\tA \\tS \\tX \\tL \\tI\\tC \\tT \\tW',\n",
       " 'Rotor VII \\tN \\tZ \\tJ \\tH \\tG \\tR \\tC \\tX \\tM \\tY \\tS \\tW\\tB \\tO \\tU \\tF \\tA \\tI \\tV \\tL \\tP \\tE \\tK\\tQ \\tD \\tT',\n",
       " 'Rotor VIII \\tF \\tK \\tQ \\tH \\tT \\tL \\tX \\tO \\tC \\tB \\tJ \\tS\\tP \\tD \\tZ \\tR \\tA \\tM \\tE \\tW \\tN \\tI \\tU\\tY \\tG \\tV',\n",
       " 'Beta rotor \\tL \\tE \\tY \\tJ \\tV \\tC \\tN \\tI \\tX \\tW \\tP \\tB\\tQ \\tM \\tD \\tR \\tT \\tA \\tK \\tZ \\tG \\tF \\tU\\tH \\tO \\tS',\n",
       " 'Gamma rotor \\tF \\tS \\tO \\tK \\tA \\tN \\tU \\tE \\tR \\tH \\tM \\tB\\tT \\tI \\tY \\tC \\tW \\tL \\tQ \\tP \\tZ \\tX \\tV\\tG \\tJ \\tD',\n",
       " '']"
      ]
     },
     "execution_count": 14,
     "metadata": {},
     "output_type": "execute_result"
    }
   ],
   "source": [
    "Rotors.split('\\n')"
   ]
  },
  {
   "cell_type": "code",
   "execution_count": 44,
   "metadata": {},
   "outputs": [],
   "source": [
    "Rotors_list = []\n",
    "for i in range(0, len(Rotors.split('\\n'))):\n",
    "    if (Rotors.split('\\n')[i] != ''):\n",
    "        Rotors_list.append(Rotors.split('\\n')[i].replace(' ','').split('\\t'))\n",
    "#         print(len(Rotors.split('\\n')[i].split('\\t')))\n",
    "#         print(Rotors.split('\\n')[i].split('\\t'))"
   ]
  },
  {
   "cell_type": "code",
   "execution_count": 45,
   "metadata": {},
   "outputs": [
    {
     "data": {
      "text/plain": [
       "['INPUT',\n",
       " 'A',\n",
       " 'B',\n",
       " 'C',\n",
       " 'D',\n",
       " 'E',\n",
       " 'F',\n",
       " 'G',\n",
       " 'H',\n",
       " 'I',\n",
       " 'J',\n",
       " 'K',\n",
       " 'L',\n",
       " 'M',\n",
       " 'N',\n",
       " 'O',\n",
       " 'P',\n",
       " 'Q',\n",
       " 'R',\n",
       " 'S',\n",
       " 'T',\n",
       " 'U',\n",
       " 'V',\n",
       " 'W',\n",
       " 'X',\n",
       " 'Y',\n",
       " 'Z']"
      ]
     },
     "execution_count": 45,
     "metadata": {},
     "output_type": "execute_result"
    }
   ],
   "source": [
    "Rotors_list[0]"
   ]
  },
  {
   "cell_type": "code",
   "execution_count": 48,
   "metadata": {},
   "outputs": [
    {
     "name": "stdout",
     "output_type": "stream",
     "text": [
      "['A', 'B', 'C', 'D', 'E', 'F', 'G', 'H', 'I', 'J', 'K', 'L', 'M', 'N', 'O', 'P', 'Q', 'R', 'S', 'T', 'U', 'V', 'W', 'X', 'Y', 'Z']\n",
      "['E', 'K', 'M', 'F', 'L', 'G', 'D', 'Q', 'V', 'Z', 'N', 'T', 'O', 'W', 'Y', 'H', 'X', 'U', 'S', 'P', 'A', 'I', 'B', 'R', 'C', 'J']\n",
      "['A', 'J', 'D', 'K', 'S', 'I', 'R', 'U', 'X', 'B', 'L', 'H', 'W', 'T', 'M', 'C', 'Q', 'G', 'Z', 'N', 'P', 'Y', 'F', 'V', 'O', 'E']\n",
      "['B', 'D', 'F', 'H', 'J', 'L', 'C', 'P', 'R', 'T', 'X', 'V', 'Z', 'N', 'Y', 'E', 'I', 'W', 'G', 'A', 'K', 'M', 'U', 'S', 'Q', 'O']\n",
      "['E', 'S', 'O', 'V', 'P', 'Z', 'J', 'A', 'Y', 'Q', 'U', 'I', 'R', 'H', 'X', 'L', 'N', 'F', 'T', 'G', 'K', 'D', 'C', 'M', 'W', 'B']\n",
      "['V', 'Z', 'B', 'R', 'G', 'I', 'T', 'Y', 'U', 'P', 'S', 'D', 'N', 'H', 'L', 'X', 'A', 'W', 'M', 'J', 'Q', 'O', 'F', 'E', 'C', 'K']\n",
      "['J', 'P', 'G', 'V', 'O', 'U', 'M', 'F', 'Y', 'Q', 'B', 'E', 'N', 'H', 'Z', 'R', 'D', 'K', 'A', 'S', 'X', 'L', 'I', 'C', 'T', 'W']\n",
      "['N', 'Z', 'J', 'H', 'G', 'R', 'C', 'X', 'M', 'Y', 'S', 'W', 'B', 'O', 'U', 'F', 'A', 'I', 'V', 'L', 'P', 'E', 'K', 'Q', 'D', 'T']\n",
      "['F', 'K', 'Q', 'H', 'T', 'L', 'X', 'O', 'C', 'B', 'J', 'S', 'P', 'D', 'Z', 'R', 'A', 'M', 'E', 'W', 'N', 'I', 'U', 'Y', 'G', 'V']\n",
      "['L', 'E', 'Y', 'J', 'V', 'C', 'N', 'I', 'X', 'W', 'P', 'B', 'Q', 'M', 'D', 'R', 'T', 'A', 'K', 'Z', 'G', 'F', 'U', 'H', 'O', 'S']\n",
      "['F', 'S', 'O', 'K', 'A', 'N', 'U', 'E', 'R', 'H', 'M', 'B', 'T', 'I', 'Y', 'C', 'W', 'L', 'Q', 'P', 'Z', 'X', 'V', 'G', 'J', 'D']\n"
     ]
    }
   ],
   "source": [
    "Rotors_dict = {}\n",
    "for i in range (0,len(Rotors_list)):\n",
    "#     print(Rotors_list[i][0])\n",
    "    print(Rotors_list[i][1:])\n",
    "    Rotors_dict[Rotors_list[i][0]] = ''.join(Rotors_list[i][1:])\n",
    "#     print(''.join(Rotors_list[i][1:]))"
   ]
  },
  {
   "cell_type": "code",
   "execution_count": 49,
   "metadata": {},
   "outputs": [
    {
     "data": {
      "text/plain": [
       "{'INPUT': 'ABCDEFGHIJKLMNOPQRSTUVWXYZ',\n",
       " 'RotorI': 'EKMFLGDQVZNTOWYHXUSPAIBRCJ',\n",
       " 'RotorII': 'AJDKSIRUXBLHWTMCQGZNPYFVOE',\n",
       " 'RotorIII': 'BDFHJLCPRTXVZNYEIWGAKMUSQO',\n",
       " 'RotorIV': 'ESOVPZJAYQUIRHXLNFTGKDCMWB',\n",
       " 'RotorV': 'VZBRGITYUPSDNHLXAWMJQOFECK',\n",
       " 'RotorVI': 'JPGVOUMFYQBENHZRDKASXLICTW',\n",
       " 'RotorVII': 'NZJHGRCXMYSWBOUFAIVLPEKQDT',\n",
       " 'RotorVIII': 'FKQHTLXOCBJSPDZRAMEWNIUYGV',\n",
       " 'Betarotor': 'LEYJVCNIXWPBQMDRTAKZGFUHOS',\n",
       " 'Gammarotor': 'FSOKANUERHMBTIYCWLQPZXVGJD'}"
      ]
     },
     "execution_count": 49,
     "metadata": {},
     "output_type": "execute_result"
    }
   ],
   "source": [
    "Rotors_dict"
   ]
  },
  {
   "cell_type": "code",
   "execution_count": 51,
   "metadata": {},
   "outputs": [
    {
     "name": "stdout",
     "output_type": "stream",
     "text": [
      "['A', 'B', 'C', 'D', 'E', 'F', 'G', 'H', 'I', 'J', 'K', 'L', 'M', 'N', 'O', 'P', 'Q', 'R', 'S', 'T', 'U', 'V', 'W', 'X', 'Y', 'Z']\n",
      "['E', 'K', 'M', 'F', 'L', 'G', 'D', 'Q', 'V', 'Z', 'N', 'T', 'O', 'W', 'Y', 'H', 'X', 'U', 'S', 'P', 'A', 'I', 'B', 'R', 'C', 'J']\n",
      "['A', 'J', 'D', 'K', 'S', 'I', 'R', 'U', 'X', 'B', 'L', 'H', 'W', 'T', 'M', 'C', 'Q', 'G', 'Z', 'N', 'P', 'Y', 'F', 'V', 'O', 'E']\n",
      "['B', 'D', 'F', 'H', 'J', 'L', 'C', 'P', 'R', 'T', 'X', 'V', 'Z', 'N', 'Y', 'E', 'I', 'W', 'G', 'A', 'K', 'M', 'U', 'S', 'Q', 'O']\n",
      "['E', 'S', 'O', 'V', 'P', 'Z', 'J', 'A', 'Y', 'Q', 'U', 'I', 'R', 'H', 'X', 'L', 'N', 'F', 'T', 'G', 'K', 'D', 'C', 'M', 'W', 'B']\n",
      "['V', 'Z', 'B', 'R', 'G', 'I', 'T', 'Y', 'U', 'P', 'S', 'D', 'N', 'H', 'L', 'X', 'A', 'W', 'M', 'J', 'Q', 'O', 'F', 'E', 'C', 'K']\n",
      "['J', 'P', 'G', 'V', 'O', 'U', 'M', 'F', 'Y', 'Q', 'B', 'E', 'N', 'H', 'Z', 'R', 'D', 'K', 'A', 'S', 'X', 'L', 'I', 'C', 'T', 'W']\n",
      "['N', 'Z', 'J', 'H', 'G', 'R', 'C', 'X', 'M', 'Y', 'S', 'W', 'B', 'O', 'U', 'F', 'A', 'I', 'V', 'L', 'P', 'E', 'K', 'Q', 'D', 'T']\n",
      "['F', 'K', 'Q', 'H', 'T', 'L', 'X', 'O', 'C', 'B', 'J', 'S', 'P', 'D', 'Z', 'R', 'A', 'M', 'E', 'W', 'N', 'I', 'U', 'Y', 'G', 'V']\n",
      "['L', 'E', 'Y', 'J', 'V', 'C', 'N', 'I', 'X', 'W', 'P', 'B', 'Q', 'M', 'D', 'R', 'T', 'A', 'K', 'Z', 'G', 'F', 'U', 'H', 'O', 'S']\n",
      "['F', 'S', 'O', 'K', 'A', 'N', 'U', 'E', 'R', 'H', 'M', 'B', 'T', 'I', 'Y', 'C', 'W', 'L', 'Q', 'P', 'Z', 'X', 'V', 'G', 'J', 'D']\n"
     ]
    }
   ],
   "source": [
    "Rotors_dict_comb = {}\n",
    "for i in range (0,len(Rotors_list)):\n",
    "    print(Rotors_list[i][1:])\n",
    "    res = {Rotors_list[0][1:][j]: Rotors_list[i][1:][j] for j in range(len(Rotors_list[0][1:]))}\n",
    "    Rotors_dict_comb[Rotors_list[i][0]] = res\n"
   ]
  },
  {
   "cell_type": "code",
   "execution_count": 55,
   "metadata": {},
   "outputs": [
    {
     "data": {
      "text/plain": [
       "'E'"
      ]
     },
     "execution_count": 55,
     "metadata": {},
     "output_type": "execute_result"
    }
   ],
   "source": [
    "Rotors_dict_comb['RotorI']['A']"
   ]
  },
  {
   "cell_type": "code",
   "execution_count": 56,
   "metadata": {},
   "outputs": [
    {
     "name": "stdout",
     "output_type": "stream",
     "text": [
      "['A', 'B', 'C', 'D', 'E', 'F', 'G', 'H', 'I', 'J', 'K', 'L', 'M', 'N', 'O', 'P', 'Q', 'R', 'S', 'T', 'U', 'V', 'W', 'X', 'Y', 'Z']\n",
      "['E', 'K', 'M', 'F', 'L', 'G', 'D', 'Q', 'V', 'Z', 'N', 'T', 'O', 'W', 'Y', 'H', 'X', 'U', 'S', 'P', 'A', 'I', 'B', 'R', 'C', 'J']\n",
      "['A', 'J', 'D', 'K', 'S', 'I', 'R', 'U', 'X', 'B', 'L', 'H', 'W', 'T', 'M', 'C', 'Q', 'G', 'Z', 'N', 'P', 'Y', 'F', 'V', 'O', 'E']\n",
      "['B', 'D', 'F', 'H', 'J', 'L', 'C', 'P', 'R', 'T', 'X', 'V', 'Z', 'N', 'Y', 'E', 'I', 'W', 'G', 'A', 'K', 'M', 'U', 'S', 'Q', 'O']\n",
      "['E', 'S', 'O', 'V', 'P', 'Z', 'J', 'A', 'Y', 'Q', 'U', 'I', 'R', 'H', 'X', 'L', 'N', 'F', 'T', 'G', 'K', 'D', 'C', 'M', 'W', 'B']\n",
      "['V', 'Z', 'B', 'R', 'G', 'I', 'T', 'Y', 'U', 'P', 'S', 'D', 'N', 'H', 'L', 'X', 'A', 'W', 'M', 'J', 'Q', 'O', 'F', 'E', 'C', 'K']\n",
      "['J', 'P', 'G', 'V', 'O', 'U', 'M', 'F', 'Y', 'Q', 'B', 'E', 'N', 'H', 'Z', 'R', 'D', 'K', 'A', 'S', 'X', 'L', 'I', 'C', 'T', 'W']\n",
      "['N', 'Z', 'J', 'H', 'G', 'R', 'C', 'X', 'M', 'Y', 'S', 'W', 'B', 'O', 'U', 'F', 'A', 'I', 'V', 'L', 'P', 'E', 'K', 'Q', 'D', 'T']\n",
      "['F', 'K', 'Q', 'H', 'T', 'L', 'X', 'O', 'C', 'B', 'J', 'S', 'P', 'D', 'Z', 'R', 'A', 'M', 'E', 'W', 'N', 'I', 'U', 'Y', 'G', 'V']\n",
      "['L', 'E', 'Y', 'J', 'V', 'C', 'N', 'I', 'X', 'W', 'P', 'B', 'Q', 'M', 'D', 'R', 'T', 'A', 'K', 'Z', 'G', 'F', 'U', 'H', 'O', 'S']\n",
      "['F', 'S', 'O', 'K', 'A', 'N', 'U', 'E', 'R', 'H', 'M', 'B', 'T', 'I', 'Y', 'C', 'W', 'L', 'Q', 'P', 'Z', 'X', 'V', 'G', 'J', 'D']\n"
     ]
    }
   ],
   "source": [
    "Rotors_dict_indexed = {}\n",
    "for i in range (0,len(Rotors_list)):\n",
    "    print(Rotors_list[i][1:])\n",
    "    res = {Rotors_list[0][1:][j]: Rotors_list[i][1:][j] for j in range(len(Rotors_list[0][1:]))}\n",
    "    Rotors_dict_indexed[i] = res"
   ]
  },
  {
   "cell_type": "code",
   "execution_count": 57,
   "metadata": {},
   "outputs": [
    {
     "data": {
      "text/plain": [
       "{0: {'A': 'A',\n",
       "  'B': 'B',\n",
       "  'C': 'C',\n",
       "  'D': 'D',\n",
       "  'E': 'E',\n",
       "  'F': 'F',\n",
       "  'G': 'G',\n",
       "  'H': 'H',\n",
       "  'I': 'I',\n",
       "  'J': 'J',\n",
       "  'K': 'K',\n",
       "  'L': 'L',\n",
       "  'M': 'M',\n",
       "  'N': 'N',\n",
       "  'O': 'O',\n",
       "  'P': 'P',\n",
       "  'Q': 'Q',\n",
       "  'R': 'R',\n",
       "  'S': 'S',\n",
       "  'T': 'T',\n",
       "  'U': 'U',\n",
       "  'V': 'V',\n",
       "  'W': 'W',\n",
       "  'X': 'X',\n",
       "  'Y': 'Y',\n",
       "  'Z': 'Z'},\n",
       " 1: {'A': 'E',\n",
       "  'B': 'K',\n",
       "  'C': 'M',\n",
       "  'D': 'F',\n",
       "  'E': 'L',\n",
       "  'F': 'G',\n",
       "  'G': 'D',\n",
       "  'H': 'Q',\n",
       "  'I': 'V',\n",
       "  'J': 'Z',\n",
       "  'K': 'N',\n",
       "  'L': 'T',\n",
       "  'M': 'O',\n",
       "  'N': 'W',\n",
       "  'O': 'Y',\n",
       "  'P': 'H',\n",
       "  'Q': 'X',\n",
       "  'R': 'U',\n",
       "  'S': 'S',\n",
       "  'T': 'P',\n",
       "  'U': 'A',\n",
       "  'V': 'I',\n",
       "  'W': 'B',\n",
       "  'X': 'R',\n",
       "  'Y': 'C',\n",
       "  'Z': 'J'},\n",
       " 2: {'A': 'A',\n",
       "  'B': 'J',\n",
       "  'C': 'D',\n",
       "  'D': 'K',\n",
       "  'E': 'S',\n",
       "  'F': 'I',\n",
       "  'G': 'R',\n",
       "  'H': 'U',\n",
       "  'I': 'X',\n",
       "  'J': 'B',\n",
       "  'K': 'L',\n",
       "  'L': 'H',\n",
       "  'M': 'W',\n",
       "  'N': 'T',\n",
       "  'O': 'M',\n",
       "  'P': 'C',\n",
       "  'Q': 'Q',\n",
       "  'R': 'G',\n",
       "  'S': 'Z',\n",
       "  'T': 'N',\n",
       "  'U': 'P',\n",
       "  'V': 'Y',\n",
       "  'W': 'F',\n",
       "  'X': 'V',\n",
       "  'Y': 'O',\n",
       "  'Z': 'E'},\n",
       " 3: {'A': 'B',\n",
       "  'B': 'D',\n",
       "  'C': 'F',\n",
       "  'D': 'H',\n",
       "  'E': 'J',\n",
       "  'F': 'L',\n",
       "  'G': 'C',\n",
       "  'H': 'P',\n",
       "  'I': 'R',\n",
       "  'J': 'T',\n",
       "  'K': 'X',\n",
       "  'L': 'V',\n",
       "  'M': 'Z',\n",
       "  'N': 'N',\n",
       "  'O': 'Y',\n",
       "  'P': 'E',\n",
       "  'Q': 'I',\n",
       "  'R': 'W',\n",
       "  'S': 'G',\n",
       "  'T': 'A',\n",
       "  'U': 'K',\n",
       "  'V': 'M',\n",
       "  'W': 'U',\n",
       "  'X': 'S',\n",
       "  'Y': 'Q',\n",
       "  'Z': 'O'},\n",
       " 4: {'A': 'E',\n",
       "  'B': 'S',\n",
       "  'C': 'O',\n",
       "  'D': 'V',\n",
       "  'E': 'P',\n",
       "  'F': 'Z',\n",
       "  'G': 'J',\n",
       "  'H': 'A',\n",
       "  'I': 'Y',\n",
       "  'J': 'Q',\n",
       "  'K': 'U',\n",
       "  'L': 'I',\n",
       "  'M': 'R',\n",
       "  'N': 'H',\n",
       "  'O': 'X',\n",
       "  'P': 'L',\n",
       "  'Q': 'N',\n",
       "  'R': 'F',\n",
       "  'S': 'T',\n",
       "  'T': 'G',\n",
       "  'U': 'K',\n",
       "  'V': 'D',\n",
       "  'W': 'C',\n",
       "  'X': 'M',\n",
       "  'Y': 'W',\n",
       "  'Z': 'B'},\n",
       " 5: {'A': 'V',\n",
       "  'B': 'Z',\n",
       "  'C': 'B',\n",
       "  'D': 'R',\n",
       "  'E': 'G',\n",
       "  'F': 'I',\n",
       "  'G': 'T',\n",
       "  'H': 'Y',\n",
       "  'I': 'U',\n",
       "  'J': 'P',\n",
       "  'K': 'S',\n",
       "  'L': 'D',\n",
       "  'M': 'N',\n",
       "  'N': 'H',\n",
       "  'O': 'L',\n",
       "  'P': 'X',\n",
       "  'Q': 'A',\n",
       "  'R': 'W',\n",
       "  'S': 'M',\n",
       "  'T': 'J',\n",
       "  'U': 'Q',\n",
       "  'V': 'O',\n",
       "  'W': 'F',\n",
       "  'X': 'E',\n",
       "  'Y': 'C',\n",
       "  'Z': 'K'},\n",
       " 6: {'A': 'J',\n",
       "  'B': 'P',\n",
       "  'C': 'G',\n",
       "  'D': 'V',\n",
       "  'E': 'O',\n",
       "  'F': 'U',\n",
       "  'G': 'M',\n",
       "  'H': 'F',\n",
       "  'I': 'Y',\n",
       "  'J': 'Q',\n",
       "  'K': 'B',\n",
       "  'L': 'E',\n",
       "  'M': 'N',\n",
       "  'N': 'H',\n",
       "  'O': 'Z',\n",
       "  'P': 'R',\n",
       "  'Q': 'D',\n",
       "  'R': 'K',\n",
       "  'S': 'A',\n",
       "  'T': 'S',\n",
       "  'U': 'X',\n",
       "  'V': 'L',\n",
       "  'W': 'I',\n",
       "  'X': 'C',\n",
       "  'Y': 'T',\n",
       "  'Z': 'W'},\n",
       " 7: {'A': 'N',\n",
       "  'B': 'Z',\n",
       "  'C': 'J',\n",
       "  'D': 'H',\n",
       "  'E': 'G',\n",
       "  'F': 'R',\n",
       "  'G': 'C',\n",
       "  'H': 'X',\n",
       "  'I': 'M',\n",
       "  'J': 'Y',\n",
       "  'K': 'S',\n",
       "  'L': 'W',\n",
       "  'M': 'B',\n",
       "  'N': 'O',\n",
       "  'O': 'U',\n",
       "  'P': 'F',\n",
       "  'Q': 'A',\n",
       "  'R': 'I',\n",
       "  'S': 'V',\n",
       "  'T': 'L',\n",
       "  'U': 'P',\n",
       "  'V': 'E',\n",
       "  'W': 'K',\n",
       "  'X': 'Q',\n",
       "  'Y': 'D',\n",
       "  'Z': 'T'},\n",
       " 8: {'A': 'F',\n",
       "  'B': 'K',\n",
       "  'C': 'Q',\n",
       "  'D': 'H',\n",
       "  'E': 'T',\n",
       "  'F': 'L',\n",
       "  'G': 'X',\n",
       "  'H': 'O',\n",
       "  'I': 'C',\n",
       "  'J': 'B',\n",
       "  'K': 'J',\n",
       "  'L': 'S',\n",
       "  'M': 'P',\n",
       "  'N': 'D',\n",
       "  'O': 'Z',\n",
       "  'P': 'R',\n",
       "  'Q': 'A',\n",
       "  'R': 'M',\n",
       "  'S': 'E',\n",
       "  'T': 'W',\n",
       "  'U': 'N',\n",
       "  'V': 'I',\n",
       "  'W': 'U',\n",
       "  'X': 'Y',\n",
       "  'Y': 'G',\n",
       "  'Z': 'V'},\n",
       " 9: {'A': 'L',\n",
       "  'B': 'E',\n",
       "  'C': 'Y',\n",
       "  'D': 'J',\n",
       "  'E': 'V',\n",
       "  'F': 'C',\n",
       "  'G': 'N',\n",
       "  'H': 'I',\n",
       "  'I': 'X',\n",
       "  'J': 'W',\n",
       "  'K': 'P',\n",
       "  'L': 'B',\n",
       "  'M': 'Q',\n",
       "  'N': 'M',\n",
       "  'O': 'D',\n",
       "  'P': 'R',\n",
       "  'Q': 'T',\n",
       "  'R': 'A',\n",
       "  'S': 'K',\n",
       "  'T': 'Z',\n",
       "  'U': 'G',\n",
       "  'V': 'F',\n",
       "  'W': 'U',\n",
       "  'X': 'H',\n",
       "  'Y': 'O',\n",
       "  'Z': 'S'},\n",
       " 10: {'A': 'F',\n",
       "  'B': 'S',\n",
       "  'C': 'O',\n",
       "  'D': 'K',\n",
       "  'E': 'A',\n",
       "  'F': 'N',\n",
       "  'G': 'U',\n",
       "  'H': 'E',\n",
       "  'I': 'R',\n",
       "  'J': 'H',\n",
       "  'K': 'M',\n",
       "  'L': 'B',\n",
       "  'M': 'T',\n",
       "  'N': 'I',\n",
       "  'O': 'Y',\n",
       "  'P': 'C',\n",
       "  'Q': 'W',\n",
       "  'R': 'L',\n",
       "  'S': 'Q',\n",
       "  'T': 'P',\n",
       "  'U': 'Z',\n",
       "  'V': 'X',\n",
       "  'W': 'V',\n",
       "  'X': 'G',\n",
       "  'Y': 'J',\n",
       "  'Z': 'D'}}"
      ]
     },
     "execution_count": 57,
     "metadata": {},
     "output_type": "execute_result"
    }
   ],
   "source": [
    "Rotors_dict_indexed"
   ]
  },
  {
   "cell_type": "code",
   "execution_count": 61,
   "metadata": {},
   "outputs": [],
   "source": [
    "def rotor(symbol, n, reverse=False):\n",
    "    if (reverse):\n",
    "        return {v:k  for k,v in Rotors_dict_indexed[n].items()}[symbol]\n",
    "    else:\n",
    "        return Rotors_dict_indexed[n][symbol]"
   ]
  },
  {
   "cell_type": "code",
   "execution_count": 69,
   "metadata": {},
   "outputs": [
    {
     "data": {
      "text/plain": [
       "'E'"
      ]
     },
     "execution_count": 69,
     "metadata": {},
     "output_type": "execute_result"
    }
   ],
   "source": [
    "rotor('A',1,False)"
   ]
  },
  {
   "cell_type": "code",
   "execution_count": null,
   "metadata": {},
   "outputs": [],
   "source": []
  },
  {
   "cell_type": "code",
   "execution_count": null,
   "metadata": {},
   "outputs": [],
   "source": []
  },
  {
   "cell_type": "code",
   "execution_count": null,
   "metadata": {},
   "outputs": [],
   "source": []
  },
  {
   "cell_type": "code",
   "execution_count": null,
   "metadata": {},
   "outputs": [],
   "source": []
  },
  {
   "cell_type": "code",
   "execution_count": 59,
   "metadata": {},
   "outputs": [
    {
     "data": {
      "text/plain": [
       "{'A': 'E',\n",
       " 'B': 'K',\n",
       " 'C': 'M',\n",
       " 'D': 'F',\n",
       " 'E': 'L',\n",
       " 'F': 'G',\n",
       " 'G': 'D',\n",
       " 'H': 'Q',\n",
       " 'I': 'V',\n",
       " 'J': 'Z',\n",
       " 'K': 'N',\n",
       " 'L': 'T',\n",
       " 'M': 'O',\n",
       " 'N': 'W',\n",
       " 'O': 'Y',\n",
       " 'P': 'H',\n",
       " 'Q': 'X',\n",
       " 'R': 'U',\n",
       " 'S': 'S',\n",
       " 'T': 'P',\n",
       " 'U': 'A',\n",
       " 'V': 'I',\n",
       " 'W': 'B',\n",
       " 'X': 'R',\n",
       " 'Y': 'C',\n",
       " 'Z': 'J'}"
      ]
     },
     "execution_count": 59,
     "metadata": {},
     "output_type": "execute_result"
    }
   ],
   "source": [
    "Rotors_dict_indexed[1]"
   ]
  },
  {
   "cell_type": "code",
   "execution_count": 60,
   "metadata": {},
   "outputs": [
    {
     "data": {
      "text/plain": [
       "{'E': 'A',\n",
       " 'K': 'B',\n",
       " 'M': 'C',\n",
       " 'F': 'D',\n",
       " 'L': 'E',\n",
       " 'G': 'F',\n",
       " 'D': 'G',\n",
       " 'Q': 'H',\n",
       " 'V': 'I',\n",
       " 'Z': 'J',\n",
       " 'N': 'K',\n",
       " 'T': 'L',\n",
       " 'O': 'M',\n",
       " 'W': 'N',\n",
       " 'Y': 'O',\n",
       " 'H': 'P',\n",
       " 'X': 'Q',\n",
       " 'U': 'R',\n",
       " 'S': 'S',\n",
       " 'P': 'T',\n",
       " 'A': 'U',\n",
       " 'I': 'V',\n",
       " 'B': 'W',\n",
       " 'R': 'X',\n",
       " 'C': 'Y',\n",
       " 'J': 'Z'}"
      ]
     },
     "execution_count": 60,
     "metadata": {},
     "output_type": "execute_result"
    }
   ],
   "source": [
    "{v:k  for k,v in Rotors_dict_indexed[1].items()}"
   ]
  },
  {
   "cell_type": "code",
   "execution_count": null,
   "metadata": {},
   "outputs": [],
   "source": []
  },
  {
   "cell_type": "code",
   "execution_count": null,
   "metadata": {},
   "outputs": [],
   "source": []
  },
  {
   "cell_type": "code",
   "execution_count": 71,
   "metadata": {},
   "outputs": [],
   "source": [
    "Reflectors = '''\n",
    "reflector B\t(AY) (BR) (CU) (DH) (EQ) (FS) (GL) (IP) (JX) (KN) (MO) (TZ) (VW)\n",
    "reflector C\t(AF) (BV) (CP) (DJ) (EI) (GO) (HY) (KR) (LZ) (MX) (NW) (TQ) (SU)\n",
    "reflector B Dünn\t(AE) (BN) (CK) (DQ) (FU) (GY) (HW) (IJ) (LO) (MP) (RX) (SZ) (TV)\n",
    "reflector C Dünn\t(AR) (BD) (CO) (EJ) (FN) (GT) (HK) (IV) (LM) (PW) (QZ) (SX) (UY)\n",
    "'''\n"
   ]
  },
  {
   "cell_type": "code",
   "execution_count": 76,
   "metadata": {},
   "outputs": [
    {
     "data": {
      "text/plain": [
       "'\\nreflector B\\t(AY) (BR) (CU) (DH) (EQ) (FS) (GL) (IP) (JX) (KN) (MO) (TZ) (VW)\\nreflector C\\t(AF) (BV) (CP) (DJ) (EI) (GO) (HY) (KR) (LZ) (MX) (NW) (TQ) (SU)\\nreflector B Dünn\\t(AE) (BN) (CK) (DQ) (FU) (GY) (HW) (IJ) (LO) (MP) (RX) (SZ) (TV)\\nreflector C Dünn\\t(AR) (BD) (CO) (EJ) (FN) (GT) (HK) (IV) (LM) (PW) (QZ) (SX) (UY)\\n'"
      ]
     },
     "execution_count": 76,
     "metadata": {},
     "output_type": "execute_result"
    }
   ],
   "source": [
    "Reflectors"
   ]
  },
  {
   "cell_type": "code",
   "execution_count": 140,
   "metadata": {},
   "outputs": [
    {
     "name": "stdout",
     "output_type": "stream",
     "text": [
      "['(AY)', '(BR)', '(CU)', '(DH)', '(EQ)', '(FS)', '(GL)', '(IP)', '(JX)', '(KN)', '(MO)', '(TZ)', '(VW)']\n",
      "['(AF)', '(BV)', '(CP)', '(DJ)', '(EI)', '(GO)', '(HY)', '(KR)', '(LZ)', '(MX)', '(NW)', '(TQ)', '(SU)']\n",
      "['(AE)', '(BN)', '(CK)', '(DQ)', '(FU)', '(GY)', '(HW)', '(IJ)', '(LO)', '(MP)', '(RX)', '(SZ)', '(TV)']\n",
      "['(AR)', '(BD)', '(CO)', '(EJ)', '(FN)', '(GT)', '(HK)', '(IV)', '(LM)', '(PW)', '(QZ)', '(SX)', '(UY)']\n"
     ]
    }
   ],
   "source": [
    "Reflectors_list = []\n",
    "Reflectors_list.append(Rotors_dict_indexed[0])\n",
    "for i in range(0, len(Reflectors.split('\\n'))):\n",
    "    if (Reflectors.split('\\n')[i] != ''):\n",
    "        print(Reflectors.split('\\n')[i].split('\\t')[1].split(' '))\n",
    "        res1 = {Reflectors.split('\\n')[i].split('\\t')[1].split(' ')[j][1]:Reflectors.split('\\n')[i].split('\\t')[1].split(' ')[j][2] for j in range(0,len(Reflectors.split('\\n')[i].split('\\t')[1].split(' ')))}\n",
    "        res2 = {Reflectors.split('\\n')[i].split('\\t')[1].split(' ')[j][2]:Reflectors.split('\\n')[i].split('\\t')[1].split(' ')[j][1] for j in range(0,len(Reflectors.split('\\n')[i].split('\\t')[1].split(' ')))}\n",
    "        res = {**res1, **res2}\n",
    "        Reflectors_list.append(res)"
   ]
  },
  {
   "cell_type": "code",
   "execution_count": 141,
   "metadata": {},
   "outputs": [
    {
     "data": {
      "text/plain": [
       "{'A': 'Y',\n",
       " 'B': 'R',\n",
       " 'C': 'U',\n",
       " 'D': 'H',\n",
       " 'E': 'Q',\n",
       " 'F': 'S',\n",
       " 'G': 'L',\n",
       " 'I': 'P',\n",
       " 'J': 'X',\n",
       " 'K': 'N',\n",
       " 'M': 'O',\n",
       " 'T': 'Z',\n",
       " 'V': 'W',\n",
       " 'Y': 'A',\n",
       " 'R': 'B',\n",
       " 'U': 'C',\n",
       " 'H': 'D',\n",
       " 'Q': 'E',\n",
       " 'S': 'F',\n",
       " 'L': 'G',\n",
       " 'P': 'I',\n",
       " 'X': 'J',\n",
       " 'N': 'K',\n",
       " 'O': 'M',\n",
       " 'Z': 'T',\n",
       " 'W': 'V'}"
      ]
     },
     "execution_count": 141,
     "metadata": {},
     "output_type": "execute_result"
    }
   ],
   "source": [
    "Reflectors_list[1]"
   ]
  },
  {
   "cell_type": "code",
   "execution_count": 136,
   "metadata": {},
   "outputs": [],
   "source": [
    "def reflector(symbol, n):\n",
    "    line = ''\n",
    "    for letter in symbol.replace(' ',''):\n",
    "        line += Reflectors_list[n][letter]\n",
    "    return line"
   ]
  },
  {
   "cell_type": "code",
   "execution_count": 137,
   "metadata": {},
   "outputs": [
    {
     "data": {
      "text/plain": [
       "'ABC'"
      ]
     },
     "execution_count": 137,
     "metadata": {},
     "output_type": "execute_result"
    }
   ],
   "source": [
    "reflector('ABC',0)"
   ]
  },
  {
   "cell_type": "code",
   "execution_count": 138,
   "metadata": {},
   "outputs": [
    {
     "data": {
      "text/plain": [
       "'YRU'"
      ]
     },
     "execution_count": 138,
     "metadata": {},
     "output_type": "execute_result"
    }
   ],
   "source": [
    "reflector('ABC',1)"
   ]
  },
  {
   "cell_type": "code",
   "execution_count": null,
   "metadata": {},
   "outputs": [],
   "source": []
  }
 ],
 "metadata": {
  "kernelspec": {
   "display_name": "Python 3",
   "language": "python",
   "name": "python3"
  },
  "language_info": {
   "codemirror_mode": {
    "name": "ipython",
    "version": 3
   },
   "file_extension": ".py",
   "mimetype": "text/x-python",
   "name": "python",
   "nbconvert_exporter": "python",
   "pygments_lexer": "ipython3",
   "version": "3.8.1"
  }
 },
 "nbformat": 4,
 "nbformat_minor": 4
}
