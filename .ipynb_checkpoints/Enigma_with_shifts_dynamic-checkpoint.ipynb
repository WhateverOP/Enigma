{
 "cells": [
  {
   "cell_type": "code",
   "execution_count": 1,
   "metadata": {},
   "outputs": [],
   "source": [
    "import pandas as pd\n",
    "import numpy as np\n",
    "import seaborn as sns\n",
    "import matplotlib.pyplot as plt\n",
    "from matplotlib.colors import ListedColormap\n",
    "import math\n",
    "import random\n",
    "from array import array\n",
    "import time\n",
    "import matplotlib\n",
    "import sys\n",
    "\n",
    "plt.rcParams.update({\n",
    "'font.size': 25,\n",
    "'figure.figsize': (11, 10),\n",
    "'figure.autolayout': True,\n",
    "'axes.grid': True,\n",
    "'grid.linestyle': '-',\n",
    "'grid.alpha': 0.2,\n",
    "'lines.markersize': 5.0,\n",
    "'xtick.minor.visible': True,\n",
    "'xtick.direction': 'in',\n",
    "'xtick.major.size': 20.0,\n",
    "'xtick.minor.size': 10.0,\n",
    "'xtick.top': True,\n",
    "'ytick.minor.visible': True,\n",
    "'ytick.direction': 'in',\n",
    "'ytick.major.size': 20.0,\n",
    "'ytick.minor.size': 10.0,\n",
    "'ytick.right': True,\n",
    "'errorbar.capsize': 0.0\n",
    "})\n",
    "\n",
    "x_font_size = 25\n",
    "y_font_size = 35\n",
    "l_font_size = 25"
   ]
  },
  {
   "cell_type": "code",
   "execution_count": 2,
   "metadata": {},
   "outputs": [],
   "source": [
    "Rotors = '''\n",
    "INPUT \tA \tB \tC \tD \tE \tF \tG \tH \tI \tJ \tK \tL\tM \tN \tO \tP \tQ \tR \tS \tT \tU \tV \tW\tX \tY \tZ\n",
    "Rotor I \tE \tK \tM \tF \tL \tG \tD \tQ \tV \tZ \tN \tT\tO \tW \tY \tH \tX \tU \tS \tP \tA \tI \tB\tR \tC \tJ\n",
    "Rotor II \tA \tJ \tD \tK \tS \tI \tR \tU \tX \tB \tL \tH\tW \tT \tM \tC \tQ \tG \tZ \tN \tP \tY \tF\tV \tO \tE\n",
    "Rotor III \tB \tD \tF \tH \tJ \tL \tC \tP \tR \tT \tX \tV\tZ \tN \tY \tE \tI \tW \tG \tA \tK \tM \tU\tS \tQ \tO\n",
    "Rotor IV \tE \tS \tO \tV \tP \tZ \tJ \tA \tY \tQ \tU \tI\tR \tH \tX \tL \tN \tF \tT \tG \tK \tD \tC\tM \tW \tB\n",
    "Rotor V \tV \tZ \tB \tR \tG \tI \tT \tY \tU \tP \tS \tD\tN \tH \tL \tX \tA \tW \tM \tJ \tQ \tO \tF\tE \tC \tK\n",
    "Rotor VI \tJ \tP \tG \tV \tO \tU \tM \tF \tY \tQ \tB \tE\tN \tH \tZ \tR \tD \tK \tA \tS \tX \tL \tI\tC \tT \tW\n",
    "Rotor VII \tN \tZ \tJ \tH \tG \tR \tC \tX \tM \tY \tS \tW\tB \tO \tU \tF \tA \tI \tV \tL \tP \tE \tK\tQ \tD \tT\n",
    "Rotor VIII \tF \tK \tQ \tH \tT \tL \tX \tO \tC \tB \tJ \tS\tP \tD \tZ \tR \tA \tM \tE \tW \tN \tI \tU\tY \tG \tV\n",
    "Beta rotor \tL \tE \tY \tJ \tV \tC \tN \tI \tX \tW \tP \tB\tQ \tM \tD \tR \tT \tA \tK \tZ \tG \tF \tU\tH \tO \tS\n",
    "Gamma rotor \tF \tS \tO \tK \tA \tN \tU \tE \tR \tH \tM \tB\tT \tI \tY \tC \tW \tL \tQ \tP \tZ \tX \tV\tG \tJ \tD\n",
    "'''\n",
    "\n",
    "Reflectors = '''\n",
    "reflector B\t(AY) (BR) (CU) (DH) (EQ) (FS) (GL) (IP) (JX) (KN) (MO) (TZ) (VW)\n",
    "reflector C\t(AF) (BV) (CP) (DJ) (EI) (GO) (HY) (KR) (LZ) (MX) (NW) (TQ) (SU)\n",
    "reflector B Dünn\t(AE) (BN) (CK) (DQ) (FU) (GY) (HW) (IJ) (LO) (MP) (RX) (SZ) (TV)\n",
    "reflector C Dünn\t(AR) (BD) (CO) (EJ) (FN) (GT) (HK) (IV) (LM) (PW) (QZ) (SX) (UY)\n",
    "'''\n"
   ]
  },
  {
   "cell_type": "code",
   "execution_count": 3,
   "metadata": {},
   "outputs": [],
   "source": [
    "Rotors_list = []\n",
    "for i in range(0, len(Rotors.split('\\n'))):\n",
    "    if (Rotors.split('\\n')[i] != ''):\n",
    "        Rotors_list.append(Rotors.split('\\n')[i].replace(' ','').split('\\t'))\n",
    "        \n",
    "Rotors_dict_indexed = {}\n",
    "for i in range (0,len(Rotors_list)):\n",
    "    res = {Rotors_list[0][1:][j]: Rotors_list[i][1:][j] for j in range(len(Rotors_list[0][1:]))}\n",
    "    Rotors_dict_indexed[i] = res"
   ]
  },
  {
   "cell_type": "code",
   "execution_count": 4,
   "metadata": {},
   "outputs": [],
   "source": [
    "def rotor(symbol, n, reverse=False):\n",
    "    line = ''\n",
    "    if (reverse):\n",
    "        for letter in symbol.replace(' ',''):\n",
    "            line += {v:k  for k,v in Rotors_dict_indexed[n].items()}[letter]\n",
    "    else:\n",
    "        for letter in symbol.replace(' ',''):\n",
    "            line += Rotors_dict_indexed[n][letter]\n",
    "    return line"
   ]
  },
  {
   "cell_type": "code",
   "execution_count": 5,
   "metadata": {},
   "outputs": [],
   "source": [
    "Reflectors_list = []\n",
    "Reflectors_list.append(Rotors_dict_indexed[0])\n",
    "for i in range(0, len(Reflectors.split('\\n'))):\n",
    "    if (Reflectors.split('\\n')[i] != ''):\n",
    "        res1 = {Reflectors.split('\\n')[i].split('\\t')[1].split(' ')[j][1]:Reflectors.split('\\n')[i].split('\\t')[1].split(' ')[j][2] for j in range(0,len(Reflectors.split('\\n')[i].split('\\t')[1].split(' ')))}\n",
    "        res2 = {Reflectors.split('\\n')[i].split('\\t')[1].split(' ')[j][2]:Reflectors.split('\\n')[i].split('\\t')[1].split(' ')[j][1] for j in range(0,len(Reflectors.split('\\n')[i].split('\\t')[1].split(' ')))}\n",
    "        res = {**res1, **res2}\n",
    "        Reflectors_list.append(res)"
   ]
  },
  {
   "cell_type": "code",
   "execution_count": 6,
   "metadata": {},
   "outputs": [],
   "source": [
    "def reflector(symbol, n):\n",
    "    line = ''\n",
    "    for letter in symbol.replace(' ',''):\n",
    "        line += Reflectors_list[n][letter]\n",
    "    return line"
   ]
  },
  {
   "cell_type": "code",
   "execution_count": 7,
   "metadata": {},
   "outputs": [],
   "source": [
    "def caesar(text, shift):\n",
    "    letter_to_number = {Rotors_list[0][1:][j] : j for j in range(0, len(Rotors_list[0][1:]))}\n",
    "    number_to_letter = {j : Rotors_list[0][1:][j] for j in range(0, len(Rotors_list[0][1:]))}\n",
    "    line = ''\n",
    "    for letter in text.replace(' ',''):\n",
    "        number = letter_to_number[letter]\n",
    "        line  += number_to_letter[(number+shift)%26]\n",
    "    return line"
   ]
  },
  {
   "cell_type": "code",
   "execution_count": 158,
   "metadata": {},
   "outputs": [],
   "source": [
    "def enigma(text, ref, rot1, shift1, rot2, shift2, rot3, shift3):\n",
    "    text = text.upper()\n",
    "    text = text.replace(' ','')\n",
    "    text_crypted = ''\n",
    "    for i in range(0,len(text)):\n",
    "        print('0',shift1, shift2, shift3)\n",
    "        if (((rot2 == 1) & (shift3 == (17-1)) & (shift2 != 0)) | ((rot2 == 2) & (shift2 == (5-1)) & (shift2 != 0)) | ((rot2 == 3) & (shift2 == (22-1)) & (shift2 != 0))):\n",
    "            shift2 += 1\n",
    "            shift1 += 1\n",
    "            print('2',shift1, shift2, shift3)\n",
    "        shift3 += 1\n",
    "        if (((rot3 == 1) & (shift3 == 17) & (shift3 != 0)) | ((rot3 == 2) & (shift3 == 5) & (shift3 != 0)) | ((rot3 == 3) & (shift3 == 22) & (shift3 != 0))):\n",
    "#             shift3 += 1\n",
    "            shift2 += 1\n",
    "            print('3',shift1, shift2, shift3)\n",
    "        forward_shifted = caesar(text[i],shift3)\n",
    "        forward_out_3 = rotor(forward_shifted,rot3,False)\n",
    "        forward_out_3_shifted = caesar(forward_out_3,shift2-shift3)\n",
    "        forward_out_2 = rotor(forward_out_3_shifted,rot2,False)\n",
    "        forward_out_2_shifted = caesar(forward_out_2,shift1-shift2)\n",
    "        forward_out_1 = rotor(forward_out_2_shifted,rot1,False)\n",
    "        forward_out_1_shifted = caesar(forward_out_1,-shift1)\n",
    "        reflection_out = reflector(forward_out_1_shifted,ref)\n",
    "        reflection_out_shifted = caesar(reflection_out,shift1)\n",
    "        backward_out_1 = rotor(reflection_out_shifted,rot1,True)\n",
    "        backward_out_1_shifted = caesar(backward_out_1,shift2-shift1)\n",
    "        backward_out_2 = rotor(backward_out_1_shifted,rot2,True)\n",
    "        backward_out_2_shifted = caesar(backward_out_2,shift3-shift2)\n",
    "        backward_out_3 = rotor(backward_out_2_shifted,rot3,True)\n",
    "        backward_out_3_shifted = caesar(backward_out_3,-shift3)\n",
    "        text_crypted += backward_out_3_shifted\n",
    "        print(backward_out_3_shifted)\n",
    "    return text_crypted"
   ]
  },
  {
   "cell_type": "code",
   "execution_count": 159,
   "metadata": {},
   "outputs": [
    {
     "name": "stdout",
     "output_type": "stream",
     "text": [
      "0 3 3 3\n",
      "B\n",
      "0 3 3 4\n",
      "3 3 4 5\n",
      "G\n",
      "0 3 4 5\n",
      "2 4 5 5\n",
      "D\n",
      "0 4 5 6\n",
      "M\n",
      "0 4 5 7\n",
      "B\n",
      "0 4 5 8\n",
      "T\n",
      "0 4 5 9\n",
      "3 4 6 10\n",
      "D\n",
      "0 4 6 10\n",
      "R\n",
      "0 4 6 11\n",
      "O\n",
      "0 4 6 12\n",
      "P\n",
      "0 4 6 13\n",
      "E\n",
      "0 4 6 14\n",
      "3 4 7 15\n",
      "W\n",
      "0 4 7 15\n",
      "J\n",
      "0 4 7 16\n",
      "Q\n",
      "0 4 7 17\n",
      "Q\n",
      "0 4 7 18\n",
      "E\n",
      "0 4 7 19\n",
      "3 4 8 20\n",
      "P\n",
      "0 4 8 20\n",
      "2 5 9 20\n",
      "W\n",
      "0 5 9 21\n",
      "Y\n",
      "0 5 9 22\n",
      "R\n",
      "0 5 9 23\n",
      "H\n",
      "0 5 9 24\n",
      "3 5 10 25\n",
      "S\n",
      "0 5 10 25\n",
      "H\n",
      "0 5 10 26\n",
      "D\n",
      "0 5 10 27\n",
      "H\n",
      "0 5 10 28\n",
      "C\n",
      "0 5 10 29\n",
      "3 5 11 30\n",
      "M\n",
      "0 5 11 30\n",
      "G\n",
      "0 5 11 31\n",
      "T\n",
      "0 5 11 32\n",
      "B\n",
      "0 5 11 33\n",
      "S\n",
      "0 5 11 34\n",
      "3 5 12 35\n",
      "L\n",
      "0 5 12 35\n",
      "2 6 13 35\n",
      "V\n",
      "0 6 13 36\n",
      "H\n",
      "0 6 13 37\n",
      "S\n",
      "0 6 13 38\n",
      "V\n",
      "0 6 13 39\n",
      "3 6 14 40\n",
      "H\n",
      "0 6 14 40\n",
      "O\n",
      "0 6 14 41\n",
      "W\n",
      "0 6 14 42\n",
      "N\n",
      "0 6 14 43\n",
      "R\n",
      "0 6 14 44\n",
      "3 6 15 45\n",
      "H\n",
      "0 6 15 45\n",
      "R\n",
      "0 6 15 46\n",
      "J\n",
      "0 6 15 47\n",
      "J\n",
      "0 6 15 48\n",
      "O\n",
      "0 6 15 49\n",
      "3 6 16 50\n",
      "T\n",
      "0 6 16 50\n",
      "2 7 17 50\n",
      "Q\n",
      "0 7 17 51\n",
      "R\n",
      "0 7 17 52\n",
      "L\n",
      "0 7 17 53\n",
      "Q\n",
      "0 7 17 54\n",
      "3 7 18 55\n",
      "T\n",
      "0 7 18 55\n",
      "M\n",
      "0 7 18 56\n",
      "Z\n",
      "0 7 18 57\n",
      "C\n"
     ]
    },
    {
     "data": {
      "text/plain": [
       "'BGDMBTDROPEWJQQEPWYRHSHDHCMGTBSLVHSVHOWNRHRJJOTQRLQTMZC'"
      ]
     },
     "execution_count": 159,
     "metadata": {},
     "output_type": "execute_result"
    }
   ],
   "source": [
    "enigma('AAAAA AAAAA AAAAA AAAAA AAAAA AAAAA AAAAA AAAAA AAAAA AAAAA AAAAA', 1, 2, 3, 2, 3, 2, 3)"
   ]
  },
  {
   "cell_type": "code",
   "execution_count": null,
   "metadata": {},
   "outputs": [],
   "source": []
  },
  {
   "cell_type": "code",
   "execution_count": 151,
   "metadata": {},
   "outputs": [
    {
     "name": "stdout",
     "output_type": "stream",
     "text": [
      "0 0 0 0\n",
      "0 0 0 1\n",
      "0 0 0 2\n",
      "0 0 0 3\n",
      "0 0 0 4\n",
      "0 0 0 5\n",
      "0 0 0 6\n"
     ]
    },
    {
     "data": {
      "text/plain": [
       "'BDZGOWC'"
      ]
     },
     "execution_count": 151,
     "metadata": {},
     "output_type": "execute_result"
    }
   ],
   "source": [
    "enigma('AAAAAAA', 1, 1, 0, 2, 0, 3, 0)"
   ]
  },
  {
   "cell_type": "code",
   "execution_count": 152,
   "metadata": {},
   "outputs": [
    {
     "name": "stdout",
     "output_type": "stream",
     "text": [
      "0 0 0 0\n",
      "0 0 0 1\n",
      "0 0 0 2\n",
      "0 0 0 3\n",
      "0 0 0 4\n",
      "0 0 0 5\n",
      "0 0 0 6\n"
     ]
    },
    {
     "data": {
      "text/plain": [
       "'AAAAAAA'"
      ]
     },
     "execution_count": 152,
     "metadata": {},
     "output_type": "execute_result"
    }
   ],
   "source": [
    "enigma('BDZGOWC', 1, 1, 0, 2, 0, 3, 0)"
   ]
  },
  {
   "cell_type": "code",
   "execution_count": 153,
   "metadata": {},
   "outputs": [
    {
     "name": "stdout",
     "output_type": "stream",
     "text": [
      "0 0 0 0\n",
      "0 0 0 1\n",
      "0 0 0 2\n",
      "0 0 0 3\n",
      "0 0 0 4\n",
      "3 0 1 5\n",
      "0 0 1 5\n",
      "0 0 1 6\n",
      "0 0 1 7\n",
      "0 0 1 8\n",
      "0 0 1 9\n",
      "3 0 2 10\n"
     ]
    },
    {
     "data": {
      "text/plain": [
       "'SMGJHIUWUF'"
      ]
     },
     "execution_count": 153,
     "metadata": {},
     "output_type": "execute_result"
    }
   ],
   "source": [
    "enigma('AAAAA AAAAA', 1, 1, 0, 2, 0, 2, 0)"
   ]
  },
  {
   "cell_type": "code",
   "execution_count": null,
   "metadata": {
    "scrolled": false
   },
   "outputs": [],
   "source": []
  },
  {
   "cell_type": "code",
   "execution_count": null,
   "metadata": {},
   "outputs": [],
   "source": []
  },
  {
   "cell_type": "code",
   "execution_count": null,
   "metadata": {},
   "outputs": [],
   "source": []
  },
  {
   "cell_type": "code",
   "execution_count": null,
   "metadata": {},
   "outputs": [],
   "source": []
  }
 ],
 "metadata": {
  "kernelspec": {
   "display_name": "Python 3",
   "language": "python",
   "name": "python3"
  },
  "language_info": {
   "codemirror_mode": {
    "name": "ipython",
    "version": 3
   },
   "file_extension": ".py",
   "mimetype": "text/x-python",
   "name": "python",
   "nbconvert_exporter": "python",
   "pygments_lexer": "ipython3",
   "version": "3.8.1"
  }
 },
 "nbformat": 4,
 "nbformat_minor": 4
}
