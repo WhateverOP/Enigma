{
 "cells": [
  {
   "cell_type": "code",
   "execution_count": 1,
   "metadata": {},
   "outputs": [],
   "source": [
    "import pandas as pd\n",
    "import numpy as np\n",
    "import seaborn as sns\n",
    "import matplotlib.pyplot as plt\n",
    "from matplotlib.colors import ListedColormap\n",
    "import math\n",
    "import random\n",
    "from array import array\n",
    "import time\n",
    "import matplotlib\n",
    "import sys\n",
    "\n",
    "plt.rcParams.update({\n",
    "'font.size': 25,\n",
    "'figure.figsize': (11, 10),\n",
    "'figure.autolayout': True,\n",
    "'axes.grid': True,\n",
    "'grid.linestyle': '-',\n",
    "'grid.alpha': 0.2,\n",
    "'lines.markersize': 5.0,\n",
    "'xtick.minor.visible': True,\n",
    "'xtick.direction': 'in',\n",
    "'xtick.major.size': 20.0,\n",
    "'xtick.minor.size': 10.0,\n",
    "'xtick.top': True,\n",
    "'ytick.minor.visible': True,\n",
    "'ytick.direction': 'in',\n",
    "'ytick.major.size': 20.0,\n",
    "'ytick.minor.size': 10.0,\n",
    "'ytick.right': True,\n",
    "'errorbar.capsize': 0.0\n",
    "})\n",
    "\n",
    "x_font_size = 25\n",
    "y_font_size = 35\n",
    "l_font_size = 25"
   ]
  },
  {
   "cell_type": "code",
   "execution_count": 2,
   "metadata": {},
   "outputs": [],
   "source": [
    "Rotors = '''\n",
    "INPUT \tA \tB \tC \tD \tE \tF \tG \tH \tI \tJ \tK \tL\tM \tN \tO \tP \tQ \tR \tS \tT \tU \tV \tW\tX \tY \tZ\n",
    "Rotor I \tE \tK \tM \tF \tL \tG \tD \tQ \tV \tZ \tN \tT\tO \tW \tY \tH \tX \tU \tS \tP \tA \tI \tB\tR \tC \tJ\n",
    "Rotor II \tA \tJ \tD \tK \tS \tI \tR \tU \tX \tB \tL \tH\tW \tT \tM \tC \tQ \tG \tZ \tN \tP \tY \tF\tV \tO \tE\n",
    "Rotor III \tB \tD \tF \tH \tJ \tL \tC \tP \tR \tT \tX \tV\tZ \tN \tY \tE \tI \tW \tG \tA \tK \tM \tU\tS \tQ \tO\n",
    "Rotor IV \tE \tS \tO \tV \tP \tZ \tJ \tA \tY \tQ \tU \tI\tR \tH \tX \tL \tN \tF \tT \tG \tK \tD \tC\tM \tW \tB\n",
    "Rotor V \tV \tZ \tB \tR \tG \tI \tT \tY \tU \tP \tS \tD\tN \tH \tL \tX \tA \tW \tM \tJ \tQ \tO \tF\tE \tC \tK\n",
    "Rotor VI \tJ \tP \tG \tV \tO \tU \tM \tF \tY \tQ \tB \tE\tN \tH \tZ \tR \tD \tK \tA \tS \tX \tL \tI\tC \tT \tW\n",
    "Rotor VII \tN \tZ \tJ \tH \tG \tR \tC \tX \tM \tY \tS \tW\tB \tO \tU \tF \tA \tI \tV \tL \tP \tE \tK\tQ \tD \tT\n",
    "Rotor VIII \tF \tK \tQ \tH \tT \tL \tX \tO \tC \tB \tJ \tS\tP \tD \tZ \tR \tA \tM \tE \tW \tN \tI \tU\tY \tG \tV\n",
    "Beta rotor \tL \tE \tY \tJ \tV \tC \tN \tI \tX \tW \tP \tB\tQ \tM \tD \tR \tT \tA \tK \tZ \tG \tF \tU\tH \tO \tS\n",
    "Gamma rotor \tF \tS \tO \tK \tA \tN \tU \tE \tR \tH \tM \tB\tT \tI \tY \tC \tW \tL \tQ \tP \tZ \tX \tV\tG \tJ \tD\n",
    "'''\n",
    "\n",
    "Reflectors = '''\n",
    "reflector B\t(AY) (BR) (CU) (DH) (EQ) (FS) (GL) (IP) (JX) (KN) (MO) (TZ) (VW)\n",
    "reflector C\t(AF) (BV) (CP) (DJ) (EI) (GO) (HY) (KR) (LZ) (MX) (NW) (TQ) (SU)\n",
    "reflector B Dünn\t(AE) (BN) (CK) (DQ) (FU) (GY) (HW) (IJ) (LO) (MP) (RX) (SZ) (TV)\n",
    "reflector C Dünn\t(AR) (BD) (CO) (EJ) (FN) (GT) (HK) (IV) (LM) (PW) (QZ) (SX) (UY)\n",
    "'''\n"
   ]
  },
  {
   "cell_type": "code",
   "execution_count": 3,
   "metadata": {},
   "outputs": [],
   "source": [
    "Rotors_list = []\n",
    "for i in range(0, len(Rotors.split('\\n'))):\n",
    "    if (Rotors.split('\\n')[i] != ''):\n",
    "        Rotors_list.append(Rotors.split('\\n')[i].replace(' ','').split('\\t'))\n",
    "        \n",
    "Rotors_dict_indexed = {}\n",
    "for i in range (0,len(Rotors_list)):\n",
    "    res = {Rotors_list[0][1:][j]: Rotors_list[i][1:][j] for j in range(len(Rotors_list[0][1:]))}\n",
    "    Rotors_dict_indexed[i] = res"
   ]
  },
  {
   "cell_type": "code",
   "execution_count": 4,
   "metadata": {},
   "outputs": [],
   "source": [
    "def rotor(symbol, n, reverse=False):\n",
    "    line = ''\n",
    "    if (reverse):\n",
    "        for letter in symbol.replace(' ',''):\n",
    "            line += {v:k  for k,v in Rotors_dict_indexed[n].items()}[letter]\n",
    "    else:\n",
    "        for letter in symbol.replace(' ',''):\n",
    "            line += Rotors_dict_indexed[n][letter]\n",
    "    return line"
   ]
  },
  {
   "cell_type": "code",
   "execution_count": 5,
   "metadata": {},
   "outputs": [
    {
     "data": {
      "text/plain": [
       "'ABCDEFGHIJKLMNOPQRSTUVWXYZ'"
      ]
     },
     "execution_count": 5,
     "metadata": {},
     "output_type": "execute_result"
    }
   ],
   "source": [
    "rotor('ABCDEFGH IJKLMNOPQR STUVWXYZ',0,False)"
   ]
  },
  {
   "cell_type": "code",
   "execution_count": 6,
   "metadata": {},
   "outputs": [
    {
     "data": {
      "text/plain": [
       "'UWYGADFPVZBECKMTHXSLRINQOJ'"
      ]
     },
     "execution_count": 6,
     "metadata": {},
     "output_type": "execute_result"
    }
   ],
   "source": [
    "rotor('ABCDEFGHIJKLMNOPQRSTUVWXYZ',1,True)"
   ]
  },
  {
   "cell_type": "code",
   "execution_count": 7,
   "metadata": {},
   "outputs": [
    {
     "data": {
      "text/plain": [
       "'GYZJJNFWQEAJHAJSALYWJSBZEVJ'"
      ]
     },
     "execution_count": 7,
     "metadata": {},
     "output_type": "execute_result"
    }
   ],
   "source": [
    "rotor('SOME ENCRYPTED TEXT FOR EXAMPLE',3,False)"
   ]
  },
  {
   "cell_type": "code",
   "execution_count": 8,
   "metadata": {},
   "outputs": [
    {
     "data": {
      "text/plain": [
       "'XZVPPNGIOHJPBJPKJCZIPKTVHFP'"
      ]
     },
     "execution_count": 8,
     "metadata": {},
     "output_type": "execute_result"
    }
   ],
   "source": [
    "rotor('SOME ENCRYPTED TEXT FOR EXAMPLE',3,True)"
   ]
  },
  {
   "cell_type": "code",
   "execution_count": null,
   "metadata": {},
   "outputs": [],
   "source": []
  },
  {
   "cell_type": "code",
   "execution_count": 9,
   "metadata": {},
   "outputs": [],
   "source": [
    "Reflectors_list = []\n",
    "Reflectors_list.append(Rotors_dict_indexed[0])\n",
    "for i in range(0, len(Reflectors.split('\\n'))):\n",
    "    if (Reflectors.split('\\n')[i] != ''):\n",
    "        res1 = {Reflectors.split('\\n')[i].split('\\t')[1].split(' ')[j][1]:Reflectors.split('\\n')[i].split('\\t')[1].split(' ')[j][2] for j in range(0,len(Reflectors.split('\\n')[i].split('\\t')[1].split(' ')))}\n",
    "        res2 = {Reflectors.split('\\n')[i].split('\\t')[1].split(' ')[j][2]:Reflectors.split('\\n')[i].split('\\t')[1].split(' ')[j][1] for j in range(0,len(Reflectors.split('\\n')[i].split('\\t')[1].split(' ')))}\n",
    "        res = {**res1, **res2}\n",
    "        Reflectors_list.append(res)"
   ]
  },
  {
   "cell_type": "code",
   "execution_count": 18,
   "metadata": {},
   "outputs": [],
   "source": [
    "# Reflectors_list[1]"
   ]
  },
  {
   "cell_type": "code",
   "execution_count": 11,
   "metadata": {},
   "outputs": [],
   "source": [
    "def reflector(symbol, n):\n",
    "    line = ''\n",
    "    for letter in symbol.replace(' ',''):\n",
    "        line += Reflectors_list[n][letter]\n",
    "    return line"
   ]
  },
  {
   "cell_type": "code",
   "execution_count": 12,
   "metadata": {},
   "outputs": [
    {
     "data": {
      "text/plain": [
       "'ABCDEFGHIJKLMNOPQRSTUVWXYZ'"
      ]
     },
     "execution_count": 12,
     "metadata": {},
     "output_type": "execute_result"
    }
   ],
   "source": [
    "reflector('ABCDEFGHIJKLMNOPQRSTUVWXYZ',0)"
   ]
  },
  {
   "cell_type": "code",
   "execution_count": 13,
   "metadata": {},
   "outputs": [
    {
     "data": {
      "text/plain": [
       "'YRUHQSLDPXNGOKMIEBFZCWVJAT'"
      ]
     },
     "execution_count": 13,
     "metadata": {},
     "output_type": "execute_result"
    }
   ],
   "source": [
    "reflector('ABCDEFGHIJKLMNOPQRSTUVWXYZ',1)"
   ]
  },
  {
   "cell_type": "code",
   "execution_count": null,
   "metadata": {},
   "outputs": [],
   "source": []
  },
  {
   "cell_type": "code",
   "execution_count": null,
   "metadata": {},
   "outputs": [],
   "source": []
  },
  {
   "cell_type": "code",
   "execution_count": 21,
   "metadata": {},
   "outputs": [],
   "source": [
    "def enigma(text, ref, rot1, rot2, rot3):\n",
    "    text = text.upper()\n",
    "    forward_out_3 = rotor(text,rot3,False)\n",
    "    forward_out_2 = rotor(forward_out_3,rot2,False)\n",
    "    forward_out_1 = rotor(forward_out_2,rot1,False)\n",
    "    reflection_out = reflector(forward_out_1,ref)\n",
    "    backward_out_1 = rotor(reflection_out,rot1,True)\n",
    "    backward_out_2 = rotor(backward_out_1,rot2,True)\n",
    "    backward_out_3 = rotor(backward_out_2,rot3,True)\n",
    "    return backward_out_3"
   ]
  },
  {
   "cell_type": "code",
   "execution_count": 22,
   "metadata": {},
   "outputs": [
    {
     "data": {
      "text/plain": [
       "'H'"
      ]
     },
     "execution_count": 22,
     "metadata": {},
     "output_type": "execute_result"
    }
   ],
   "source": [
    "enigma('A', 1, 1, 0, 0)"
   ]
  },
  {
   "cell_type": "code",
   "execution_count": 23,
   "metadata": {},
   "outputs": [
    {
     "data": {
      "text/plain": [
       "'U'"
      ]
     },
     "execution_count": 23,
     "metadata": {},
     "output_type": "execute_result"
    }
   ],
   "source": [
    "enigma('A', 1, 1, 2, 3)"
   ]
  },
  {
   "cell_type": "code",
   "execution_count": 24,
   "metadata": {},
   "outputs": [
    {
     "data": {
      "text/plain": [
       "'UEJOBTPZWCNSRKDGVMLFAQIYXH'"
      ]
     },
     "execution_count": 24,
     "metadata": {},
     "output_type": "execute_result"
    }
   ],
   "source": [
    "enigma('ABCDEFGHIJKLMNOPQRSTUVWXYZ', 1, 1, 2, 3)"
   ]
  },
  {
   "cell_type": "code",
   "execution_count": 25,
   "metadata": {},
   "outputs": [
    {
     "data": {
      "text/plain": [
       "'LDRBBKJMWGFBOFBYF'"
      ]
     },
     "execution_count": 25,
     "metadata": {},
     "output_type": "execute_result"
    }
   ],
   "source": [
    "enigma('Some encripted text', 1, 1, 2, 3)"
   ]
  },
  {
   "cell_type": "code",
   "execution_count": 20,
   "metadata": {},
   "outputs": [
    {
     "data": {
      "text/plain": [
       "'SOME ENCRIPTED TEXT'"
      ]
     },
     "execution_count": 20,
     "metadata": {},
     "output_type": "execute_result"
    }
   ],
   "source": [
    "'Some encripted text'.upper()"
   ]
  },
  {
   "cell_type": "code",
   "execution_count": null,
   "metadata": {},
   "outputs": [],
   "source": []
  },
  {
   "cell_type": "code",
   "execution_count": null,
   "metadata": {},
   "outputs": [],
   "source": []
  },
  {
   "cell_type": "code",
   "execution_count": 27,
   "metadata": {},
   "outputs": [
    {
     "data": {
      "text/plain": [
       "{'A': 'B',\n",
       " 'B': 'D',\n",
       " 'C': 'F',\n",
       " 'D': 'H',\n",
       " 'E': 'J',\n",
       " 'F': 'L',\n",
       " 'G': 'C',\n",
       " 'H': 'P',\n",
       " 'I': 'R',\n",
       " 'J': 'T',\n",
       " 'K': 'X',\n",
       " 'L': 'V',\n",
       " 'M': 'Z',\n",
       " 'N': 'N',\n",
       " 'O': 'Y',\n",
       " 'P': 'E',\n",
       " 'Q': 'I',\n",
       " 'R': 'W',\n",
       " 'S': 'G',\n",
       " 'T': 'A',\n",
       " 'U': 'K',\n",
       " 'V': 'M',\n",
       " 'W': 'U',\n",
       " 'X': 'S',\n",
       " 'Y': 'Q',\n",
       " 'Z': 'O'}"
      ]
     },
     "execution_count": 27,
     "metadata": {},
     "output_type": "execute_result"
    }
   ],
   "source": [
    "Rotors_dict_indexed[3]"
   ]
  },
  {
   "cell_type": "code",
   "execution_count": null,
   "metadata": {},
   "outputs": [],
   "source": []
  }
 ],
 "metadata": {
  "kernelspec": {
   "display_name": "Python 3",
   "language": "python",
   "name": "python3"
  },
  "language_info": {
   "codemirror_mode": {
    "name": "ipython",
    "version": 3
   },
   "file_extension": ".py",
   "mimetype": "text/x-python",
   "name": "python",
   "nbconvert_exporter": "python",
   "pygments_lexer": "ipython3",
   "version": "3.8.1"
  }
 },
 "nbformat": 4,
 "nbformat_minor": 4
}
